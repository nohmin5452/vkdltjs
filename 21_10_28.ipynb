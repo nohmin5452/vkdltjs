{
  "nbformat": 4,
  "nbformat_minor": 0,
  "metadata": {
    "colab": {
      "name": "21.10.28.ipynb",
      "provenance": [],
      "collapsed_sections": [],
      "authorship_tag": "ABX9TyOSps+7sZxNNomkThSu4fQb",
      "include_colab_link": true
    },
    "kernelspec": {
      "name": "python3",
      "display_name": "Python 3"
    },
    "language_info": {
      "name": "python"
    }
  },
  "cells": [
    {
      "cell_type": "markdown",
      "metadata": {
        "id": "view-in-github",
        "colab_type": "text"
      },
      "source": [
        "<a href=\"https://colab.research.google.com/github/nohmin5452/vkdltjs/blob/main/21_10_28.ipynb\" target=\"_parent\"><img src=\"https://colab.research.google.com/assets/colab-badge.svg\" alt=\"Open In Colab\"/></a>"
      ]
    },
    {
      "cell_type": "code",
      "metadata": {
        "id": "vCwkqO_DgmIZ"
      },
      "source": [
        "print(\"안녕하세요\")\n",
        "print(\"programming에 오신 것을 축하드립니다.\")\n",
        "print(3.141592*10*10)\n",
        "print((1/100)*1234)\n",
        "\n",
        "import turtle\n",
        "t = turtle.Turtle() #거북이를 t로 선언\n",
        "t.shape(\"turtle\") #거북이모듈의 아이콘을 거북이 모양으로 선언\n",
        "t.forward(100); #100픽셀만큼 직진\n",
        "t.left(120) #120도 회전\n",
        "t.forward(100); \n",
        "t.left(120)\n",
        "\n",
        "import turtle\n",
        "t = turtle.Turtle()\n",
        "t.shape(\"turtle\")\n",
        "t.forward(100); #100픽셀만큼 직진\n",
        "t.left(90) #90도 회전\n",
        "t.forward(100); #100픽셀만큼 직진\n",
        "t.left(90) #90도 회전\n",
        "t.forward(100); #100픽셀만큼 직진\n",
        "t.left(90) #90도 회전\n",
        "\n",
        "import turtle\n",
        "t = turtle.Turtle()\n",
        "t.shape(\"turtle\")\n",
        "t.forward(100); #100픽셀만큼 직진\n",
        "t.left(60) #60도 회전t\n",
        "t.forward(100); #100픽셀만큼 직진\n",
        "t.left(60) #60도 회전\n",
        "t.forward(100); #100픽셀만큼 직진\n",
        "t.left(60) #60도 회전\n",
        "t.forward(100); #100픽셀만큼 직진\n",
        "t.left(60) #60도 회전\n",
        "t.forward(100); #100픽셀만큼 직진\n",
        "t.left(60) #60도 회전\n",
        "t.forward(100); #100픽셀만큼 직진\n",
        "t.left(60) #60도 회전"
      ],
      "execution_count": null,
      "outputs": []
    },
    {
      "cell_type": "code",
      "metadata": {
        "id": "gT8SOqwHhx0r"
      },
      "source": [
        ""
      ],
      "execution_count": null,
      "outputs": []
    }
  ]
}