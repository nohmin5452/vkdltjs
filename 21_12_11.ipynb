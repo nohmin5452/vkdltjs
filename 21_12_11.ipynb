{
  "nbformat": 4,
  "nbformat_minor": 0,
  "metadata": {
    "colab": {
      "name": "21.12.11.ipynb",
      "provenance": [],
      "collapsed_sections": [],
      "authorship_tag": "ABX9TyOsrEP36wIqA4z8vCyGwulT",
      "include_colab_link": true
    },
    "kernelspec": {
      "name": "python3",
      "display_name": "Python 3"
    },
    "language_info": {
      "name": "python"
    }
  },
  "cells": [
    {
      "cell_type": "markdown",
      "metadata": {
        "id": "view-in-github",
        "colab_type": "text"
      },
      "source": [
        "<a href=\"https://colab.research.google.com/github/nohmin5452/vkdltjs/blob/main/21_12_11.ipynb\" target=\"_parent\"><img src=\"https://colab.research.google.com/assets/colab-badge.svg\" alt=\"Open In Colab\"/></a>"
      ]
    },
    {
      "cell_type": "code",
      "execution_count": null,
      "metadata": {
        "id": "fnaEHthYTNe7"
      },
      "outputs": [],
      "source": [
        "contacts = { }\n",
        "while True:\n",
        " name = input(\"(입력모드)이름을 입력하시오: \")\n",
        " if not name:\n",
        " break;\n",
        " tel = input(\"전화번호를 입력하시오: \")\n",
        " contacts[name] = tel\n",
        "while True:\n",
        " name = input(\"(검색모드)이름을 입력하시오: \")\n",
        " if not name:\n",
        " break;\n",
        " if name in contacts :\n",
        " print(name, \"의 전화번호는\", contacts[name], \"입니다.\")\n",
        " else:\n",
        "\n",
        "import turtle\n",
        "import random\n",
        "t = turtle.Turtle()\n",
        "t.shape(\"turtle\")\n",
        "def draw_square(x, y, c):\n",
        " t.up()\n",
        " t.goto(x, y)\n",
        " t.down()\n",
        " t.color(\"black\",c)\n",
        " t.begin_fill()\n",
        " t.forward(100)\n",
        " t.left(90)\n",
        " t.forward(100)\n",
        " t.left(90)\n",
        " t.forward(100)\n",
        " t.left(90)\n",
        " t.forward(100)\n",
        " t.left(90)\n",
        " t.end_fill()\n",
        "for c in [\"yellow\", \"red\", \"purple\", \"blue\"]:\n",
        " x = random.randint(-100, 100)\n",
        " y = random.randint(-100, 100)\n",
        " draw_square(x, y, c)"
      ]
    }
  ]
}