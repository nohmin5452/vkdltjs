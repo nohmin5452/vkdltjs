{
  "nbformat": 4,
  "nbformat_minor": 0,
  "metadata": {
    "colab": {
      "name": "21.12.12.ipynb",
      "provenance": [],
      "collapsed_sections": [],
      "authorship_tag": "ABX9TyNpp9rv39cEjYqlwoy89ndP",
      "include_colab_link": true
    },
    "kernelspec": {
      "name": "python3",
      "display_name": "Python 3"
    },
    "language_info": {
      "name": "python"
    }
  },
  "cells": [
    {
      "cell_type": "markdown",
      "metadata": {
        "id": "view-in-github",
        "colab_type": "text"
      },
      "source": [
        "<a href=\"https://colab.research.google.com/github/nohmin5452/vkdltjs/blob/main/21_12_12.ipynb\" target=\"_parent\"><img src=\"https://colab.research.google.com/assets/colab-badge.svg\" alt=\"Open In Colab\"/></a>"
      ]
    },
    {
      "cell_type": "code",
      "execution_count": null,
      "metadata": {
        "id": "bpOZ9WRvRkDD"
      },
      "outputs": [],
      "source": [
        "import turtle\n",
        "import random\n",
        "\n",
        "t = turtle.Turtle()\n",
        "s = turtle.Screen()\n",
        "s.bgcolor(\"black\")\n",
        "\n",
        "def draw_star(aturtle, color, side_length, x, y):\n",
        "  aturtle.color(color)\n",
        "  aturtle.begin_fill()\n",
        "  aturtle.penup()\n",
        "  aturtle.goto(x, y)\n",
        "  aturtle.pendown()\n",
        " for i in range(5):\n",
        "    aturtle.forward(side_length)\n",
        "    aturtle.right(144)\n",
        "    aturtle.forward(side_length)\n",
        "    aturtle.end_fill()\n",
        "for i in range(20):\n",
        "  color = random.choice([ 'white', 'yellow', 'blue', 'skyblue', 'orange', 'green' ])\n",
        "  side_length = random.randint(10, 100)\n",
        "  x = random.randint(-200, 200)\n",
        "  y = random.randint(-200, 200)\n",
        "  draw_star(t, color, side_length, x, y)\n",
        "\n",
        "\n",
        " problems = {'파이썬': '최근에 가장 떠오르는 프로그래밍 언어',\n",
        "             '변수': '데이터를 저장하는 메모리 공간',\n",
        "             '함수': '작업을 수행하는 문장들의 집합에 이름을 붙인것',\n",
        "             '리스트': '서로 관련이 없는 항목들의 모임',\n",
        "             }\n",
        "\n",
        "def show_words(problems):\n",
        "  display_message = \"\"\n",
        "  i=1\n",
        "   for word in problems.keys():\n",
        "     display_message += \"(\"+str(i)+\")\"\n",
        "     display_message += word + \" \"\n",
        "     i+=1\n",
        "   print(display_message)\n",
        "\n",
        "for meaning in problems.values():\n",
        "  print(\"다음은 어떤 단어에 대한 설명일까요? \")\n",
        "  print(\"\\\"\"+meaning+\"\\\"\")\n",
        "  correct = False\n",
        "  while not correct:\n",
        "    show_words(problems)\n",
        "    guessed_word = input(\"\") \n",
        "    if problems[guessed_word] == meaning:\n",
        "       print(\"정답입니다. !\")\n",
        "       correct = True\n",
        "     else:\n",
        "        print(\"정답이 아닙니다.\" "
      ]
    }
  ]
}