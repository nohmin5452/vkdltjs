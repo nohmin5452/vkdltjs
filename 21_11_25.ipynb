{
  "nbformat": 4,
  "nbformat_minor": 0,
  "metadata": {
    "colab": {
      "name": "21.11.25.ipynb",
      "provenance": [],
      "collapsed_sections": [],
      "authorship_tag": "ABX9TyOePLrrPZfoY9OxJRIml+O3",
      "include_colab_link": true
    },
    "kernelspec": {
      "name": "python3",
      "display_name": "Python 3"
    },
    "language_info": {
      "name": "python"
    }
  },
  "cells": [
    {
      "cell_type": "markdown",
      "metadata": {
        "id": "view-in-github",
        "colab_type": "text"
      },
      "source": [
        "<a href=\"https://colab.research.google.com/github/nohmin5452/vkdltjs/blob/main/21_11_25.ipynb\" target=\"_parent\"><img src=\"https://colab.research.google.com/assets/colab-badge.svg\" alt=\"Open In Colab\"/></a>"
      ]
    },
    {
      "cell_type": "code",
      "metadata": {
        "id": "YEq0I7oIShaw"
      },
      "source": [
        "import random\n",
        "\n",
        "tries = 0\n",
        "guess = 0\n",
        "answer random.randint(1,100)\n",
        "\n",
        "print(\"1부터 100 사이의 숫자를 맞추시오: \")\n",
        "while guess != answer:\n",
        "if tries < 10:\n",
        "  guess int(input(\"12: \"))\n",
        "  tries tries + 1\n",
        "if guess answer:\n",
        "  print(\"낮음!\")\n",
        "elif guess answer:\n",
        "  print(\"높음!\")\n",
        "\n",
        "else:\n",
        "  print(\"시도횟수를 초과하였습니다.\") \n",
        "  break\n",
        "\n",
        "if guess == answer: \n",
        "  print(\"축하합니다. 시도횟수=\", tries)\n",
        "\n",
        "else:\n",
        "  print(\"정답은 \", answer)\n",
        "\n",
        "\n",
        "import random\n",
        "while True:\n",
        "  q = random.randint(0,1)\n",
        "  x = random.randint(1,100)\n",
        "  y = random.randint(1,100)\n",
        "\n",
        "if (q == 1) & (x > y):\n",
        "  print(x, \"-\", y, \"-\", end=\" \")\n",
        "  answer = int(input())\n",
        "\n",
        "if answer == x - y:\n",
        "  print(\"잘했어요!!\")\n",
        "\n",
        "else:\n",
        "  print(\"다음번에는 잘할 수 있죠?\")\n",
        "\n",
        "else:\n",
        "  print(x,\"+\", y, \"=\", end= \"\")\n",
        "  answer = int(input())\n",
        "\n",
        "if answer == x + y:\n",
        "  print(\"잘했어요!!\")\n",
        "\n",
        "else:\n",
        "  print(\"다음번에는 잘할 수 있죠?\")"
      ],
      "execution_count": null,
      "outputs": []
    },
    {
      "cell_type": "code",
      "metadata": {
        "id": "fSwofq98UIgd"
      },
      "source": [
        ""
      ],
      "execution_count": null,
      "outputs": []
    }
  ]
}