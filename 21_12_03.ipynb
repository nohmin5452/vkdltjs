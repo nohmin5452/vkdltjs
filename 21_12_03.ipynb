{
  "nbformat": 4,
  "nbformat_minor": 0,
  "metadata": {
    "colab": {
      "name": "21.12.03.ipynb",
      "provenance": [],
      "collapsed_sections": [],
      "authorship_tag": "ABX9TyOrirBA+pMLm69w1BfYHEmo",
      "include_colab_link": true
    },
    "kernelspec": {
      "name": "python3",
      "display_name": "Python 3"
    },
    "language_info": {
      "name": "python"
    }
  },
  "cells": [
    {
      "cell_type": "markdown",
      "metadata": {
        "id": "view-in-github",
        "colab_type": "text"
      },
      "source": [
        "<a href=\"https://colab.research.google.com/github/nohmin5452/vkdltjs/blob/main/21_12_03.ipynb\" target=\"_parent\"><img src=\"https://colab.research.google.com/assets/colab-badge.svg\" alt=\"Open In Colab\"/></a>"
      ]
    },
    {
      "cell_type": "code",
      "metadata": {
        "id": "GX7Ch01xsROB"
      },
      "source": [
        "import random\n",
        "\n",
        "number = random.randint(1,8)\n",
        "\n",
        "list = [\"한 점의 의심도 없이 맞습니다.\", \"할 수 있습니다.\", \"물론입니다.\", \"글쎄요. 열심히 해야 할 것입니다.\", \"안 될 것 같습니다.\", \"조금 더 노력하세요.\", \"행운을 빕니다.\", \"다음 달에 할 수 있을\n",
        "\n",
        "겁니다.\"]\n",
        "\n",
        "while True:\n",
        "\n",
        "name = input(\"이름: (종료하려면 엔터키) \") \n",
        "if name==\":\n",
        "  break;\n",
        "question = input(\"무엇에 대하여 알고 싶은가요? \") \n",
        "print(name, \"님\", \"\\\"\", question,\"₩\"에 대하여 질문 주셨군요.\") \n",
        "print(\"운명의 주사위를 굴려볼게요...\")\n",
        "print(list[number-1])\n",
        "\n",
        "\n",
        "import turtle\n",
        "\n",
        "t = turtle.Turtle()\n",
        "t.shape(\"turtle\")\n",
        "def shape(length): # length는 한변의 길이\n",
        "s = turtle.textinput(\"\",\"몇 각형 원하나요?:\")\n",
        "n = int(s)\n",
        "\n",
        "for i in range(n):\n",
        "  t.forward(length)\n",
        "  t.left(360/n)\n",
        " \n",
        "t.up()\n",
        "\n",
        "t.goto(-200,0) # (-200, 0)으로 이동한다.\n",
        "\n",
        "t.down() \n",
        "\n",
        "shape(100); # square() 함수를 호출한다\n",
        "\n",
        "t.up()\n",
        "t.goto(0,0)\n",
        "t.down()\n",
        "shape(100);\n",
        "\n",
        "t.up(0)\n",
        "t.goto(200,0)\n",
        "t.down()\n",
        "shape(100)"
      ],
      "execution_count": null,
      "outputs": []
    }
  ]
}