<font class="papago-parent"><font class="papago-source" style="display:none;">{
</font>{
</font><font class="papago-parent"><font class="papago-source" style="display:none;">  "nbformat": 4,
</font>  "nbformat": 4,
</font><font class="papago-parent"><font class="papago-source" style="display:none;">  "nbformat_minor": 0,
</font>  "nbformat_limits": 0,
</font><font class="papago-parent"><font class="papago-source" style="display:none;">  "metadata": {
</font>  "metadata": {
</font><font class="papago-parent"><font class="papago-source" style="display:none;">    "colab": {
</font>    "colab": {
</font><font class="papago-parent"><font class="papago-source" style="display:none;">      "name": "21.11.21.ipynb의 사본",
</font>      "name": "21.11.21.ipynb의 사본",
</font><font class="papago-parent"><font class="papago-source" style="display:none;">      "provenance": [],
</font>      "검증": [],
</font><font class="papago-parent"><font class="papago-source" style="display:none;">      "authorship_tag": "ABX9TyOd89</font>      "authority_tag": "ABX9TyOd89"</font><font class="papago-parent"><font class="papago-source" style="display:none;">JQLXQggGIcx/yR0JhL",
</font>JQLSXQGGGGIcx/yR0JHL",
</font><font class="papago-parent"><font class="papago-source" style="display:none;">      "include_colab_link": true
</font>      "reason_colab_link": true
</font><font class="papago-parent"><font class="papago-source" style="display:none;">    },
</font>    },
</font><font class="papago-parent"><font class="papago-source" style="display:none;">    "kernelspec": {
</font>    "kernelspec": {
</font><font class="papago-parent"><font class="papago-source" style="display:none;">      "name": "python3",
</font>      "이름": "python3"
</font><font class="papago-parent"><font class="papago-source" style="display:none;">      "display_name": "Python 3"
</font>      "display_name": "피톤 3"
</font><font class="papago-parent"><font class="papago-source" style="display:none;">    },
</font>    },
</font><font class="papago-parent"><font class="papago-source" style="display:none;">    "language_info": {
</font>    "language_properties": {
</font><font class="papago-parent"><font class="papago-source" style="display:none;">      "name": "python"
</font>      "이름": "이름"
</font><font class="papago-parent"><font class="papago-source" style="display:none;">    }
</font>    }
</font><font class="papago-parent"><font class="papago-source" style="display:none;">  },
</font>  },
</font><font class="papago-parent"><font class="papago-source" style="display:none;">  "cells": [
</font>  "cells": [
</font><font class="papago-parent"><font class="papago-source" style="display:none;">    {
</font>    {
</font><font class="papago-parent"><font class="papago-source" style="display:none;">      "cell_type": "markdown",
</font>      "cell_type": "markdown",
</font><font class="papago-parent"><font class="papago-source" style="display:none;">      "metadata": {
</font>      "metadata": {
</font><font class="papago-parent"><font class="papago-source" style="display:none;">        "id": "view-in-github",
</font>        "id": "view-in-github",
</font><font class="papago-parent"><font class="papago-source" style="display:none;">        "colab_type": "text"
</font>        "colab_type": "text"
</font><font class="papago-parent"><font class="papago-source" style="display:none;">      },
</font>      },
</font><font class="papago-parent"><font class="papago-source" style="display:none;">      "source": [
</font>      "출처": [
</font><font class="papago-parent"><font class="papago-source" style="display:none;">        "<a href=\"https://colab.research.google.com/github/nohmin5452/vkdltjs/blob/main/21_11_21_ipynb%</font>        "<a href=\"https://colab.research.google.com/github/nohmin5452/vkdltjs/blob/main/21_11_21_ipynb%</font><font class="papago-parent"><font class="papago-source" style="display:none;">EC%9D%98_%</font>EC%9D%98_%</font><font class="papago-parent"><font class="papago-source" style="display:none;">EC%82%AC%</font>EC%82%AC%</font><font class="papago-parent"><font class="papago-source" style="display:none;">EB%B3%B8.ipynb\" target=\"_parent\"><img src=\"https://colab.research.google.com/assets/colab-badge.svg\" alt=\"Open In Colab\"/></a>"
</font>EB%B3%B8.ipynb\" target=\"_parent\"><img src=\"https://colab.research.google.com/assets/colab-badge.svg\" alt=\"Open In Colab\"/></a"
</font><font class="papago-parent"><font class="papago-source" style="display:none;">      ]
</font>      ]
</font><font class="papago-parent"><font class="papago-source" style="display:none;">    },
</font>    },
</font><font class="papago-parent"><font class="papago-source" style="display:none;">    {
</font>    {
</font><font class="papago-parent"><font class="papago-source" style="display:none;">      "cell_type": "code",
</font>      "cell_type": "code",
</font><font class="papago-parent"><font class="papago-source" style="display:none;">      "metadata": {
</font>      "metadata": {
</font><font class="papago-parent"><font class="papago-source" style="display:none;">        "id": "0Yzl</font>        "id": "0Yzl"</font><font class="papago-parent"><font class="papago-source" style="display:none;">SWZ6SgP5"
</font>SWZ6SgP5"
</font><font class="papago-parent"><font class="papago-source" style="display:none;">      },
</font>      },
</font><font class="papago-parent"><font class="papago-source" style="display:none;">      "source": [
</font>      "출처": [
</font><font class="papago-parent"><font class="papago-source" style="display:none;">        "score int(input(\"성적을 입력하세요. \"))\n",
</font>        "score int(input(\"성적을 입력하세요. \"))\n",
</font><font class="papago-parent"><font class="papago-source" style="display:none;">        "if score >= 90:\n",
</font>        "점수 >= 90:\n"이면,
</font><font class="papago-parent"><font class="papago-source" style="display:none;">        "  print(\"</font>        "인쇄(\)"</font><font class="papago-parent"><font class="papago-source" style="display:none;">A학점입니다.\")\n",
</font>A학점입니다.\")\n",
</font><font class="papago-parent"><font class="papago-source" style="display:none;">        "  elif score >=80:\n",
</font>        "엘리프 점수 >=80:\n"
</font><font class="papago-parent"><font class="papago-source" style="display:none;">        "    print(\"B학점입니다\")\n",
</font>        "    print(\"B학점입니다\")\n",
</font><font class="papago-parent"><font class="papago-source" style="display:none;">        "  elif score >=70:\n",
</font>        "엘리프 점수 >=70:\n"
</font><font class="papago-parent"><font class="papago-source" style="display:none;">        "      print(\"B학점입니다\")\n",
</font>        "      print(\"B학점입니다\")\n",
</font><font class="papago-parent"><font class="papago-source" style="display:none;">        "  elif score >=60:  \n",
</font>        "엘리프 점수 >=60: \n",
</font><font class="papago-parent"><font class="papago-source" style="display:none;">        "    print(\"C학점입니다\")\n",
</font>        "    print(\"C학점입니다\")\n",
</font><font class="papago-parent"><font class="papago-source" style="display:none;">        "  elif score >=60:  \n",
</font>        "엘리프 점수 >=60: \n",
</font><font class="papago-parent"><font class="papago-source" style="display:none;">        "    print(\"D학점입니다.</font>        "    print(\"D학점입니다.</font><font class="papago-parent"><font class="papago-source" style="display:none;">\")\n",
</font>\"\n",
</font><font class="papago-parent"><font class="papago-source" style="display:none;">        " else:\n",
</font>        "다른:\n"
</font><font class="papago-parent"><font class="papago-source" style="display:none;">        "   print(\"F학점입니다.)\n"
</font>        "   print(\"F학점입니다.)\n"
</font><font class="papago-parent"><font class="papago-source" style="display:none;">      ],
</font>      ],
</font><font class="papago-parent"><font class="papago-source" style="display:none;">      "execution_count": null,
</font>      "required_count": null,
</font><font class="papago-parent"><font class="papago-source" style="display:none;">      "outputs": []
</font>      "outputs": []
</font><font class="papago-parent"><font class="papago-source" style="display:none;">    }
</font>    }
</font><font class="papago-parent"><font class="papago-source" style="display:none;">  ]
</font>  ]
</font><font class="papago-parent"><font class="papago-source" style="display:none;">}</font>}</font>
