{
  "nbformat": 4,
  "nbformat_minor": 0,
  "metadata": {
    "colab": {
      "name": "21.11.22_U.ipynb",
      "provenance": [],
      "collapsed_sections": [],
      "authorship_tag": "ABX9TyNLmlfgDHOusnx8fKs+0KE2",
      "include_colab_link": true
    },
    "kernelspec": {
      "name": "python3",
      "display_name": "Python 3"
    },
    "language_info": {
      "name": "python"
    }
  },
  "cells": [
    {
      "cell_type": "markdown",
      "metadata": {
        "id": "view-in-github",
        "colab_type": "text"
      },
      "source": [
        "<a href=\"https://colab.research.google.com/github/nohmin5452/vkdltjs/blob/main/21_11_22_U.ipynb\" target=\"_parent\"><img src=\"https://colab.research.google.com/assets/colab-badge.svg\" alt=\"Open In Colab\"/></a>"
      ]
    },
    {
      "cell_type": "code",
      "metadata": {
        "id": "YUk2A0oFCe2U"
      },
      "source": [
        "age= 20\n",
        "if age < 20:\n",
        "  print(\"20살미만\")\n",
        "else:\n",
        "  print(\"20살 이상\")\n",
        "\n",
        "age= 20\n",
        "if age < = 30 anf age < = 50:\n",
        "  print(\"20살미만\")\n",
        "else:\n",
        "  print(\"20살 이상\")\n",
        "\n",
        "\n",
        "temp =- int(input(\"현재 온도를 입력하시오.\"))\n",
        "if temp >= 25:\n",
        "  print(\"반바지 입어요.\")\n",
        "else:\n",
        "  print(\"긴바지를 없어요.\")\n",
        "\n",
        "\n",
        "score= int(input(\"점수를 입력하세요.\"))\n",
        "if score <= 90:\n",
        "  print(\"A예요.\")\n",
        " elif score <= 80:\n",
        "   print(\"B예요.\")\n",
        " elif score <= 70:\n",
        "   print(\"C예요.\")\n",
        "elif score <= 60:\n",
        "   print(\"D예요.\")  \n",
        "else:\n",
        "  print(\"F예요. 내년에 또 봐요\") \n",
        "\n",
        "\n",
        "import random\n",
        "x = random.andint(1,100)\n",
        "y = random.andint(1,100)\n",
        "\n",
        "answer = int(input(str(x)+\"-\"+str(y)+\"=\"))\n",
        "if answer == x-y:\n",
        "  print(\"맞았습니다.\")\n",
        "else:\n",
        "  print(\"틀렸습니다.\")\n",
        "\n",
        "\n",
        "n = int(input(\"정수를 입력하시오:\"))\n",
        "if m%2 == 0and n%3 == 0 :\n",
        "  print(\"2와 3으로 나누어 떨어져요.\")\n",
        "else:\n",
        "  print(\"안돼요.\")\n",
        "\n",
        "\n",
        " for = i in range(2, 101):\n",
        "   if 1%2==0:\n",
        "     print(i,end=\"\")     "
      ],
      "execution_count": null,
      "outputs": []
    },
    {
      "cell_type": "code",
      "metadata": {
        "id": "381Up9LoNCYE"
      },
      "source": [
        ""
      ],
      "execution_count": null,
      "outputs": []
    }
  ]
}