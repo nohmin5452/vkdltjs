{
  "nbformat": 4,
  "nbformat_minor": 0,
  "metadata": {
    "colab": {
      "name": "21.12.05.ipynb",
      "provenance": [],
      "collapsed_sections": [],
      "authorship_tag": "ABX9TyMY8aGvbcFEfhFL3u+PWDqe",
      "include_colab_link": true
    },
    "kernelspec": {
      "name": "python3",
      "display_name": "Python 3"
    },
    "language_info": {
      "name": "python"
    }
  },
  "cells": [
    {
      "cell_type": "markdown",
      "metadata": {
        "id": "view-in-github",
        "colab_type": "text"
      },
      "source": [
        "<a href=\"https://colab.research.google.com/github/nohmin5452/vkdltjs/blob/main/21_12_05.ipynb\" target=\"_parent\"><img src=\"https://colab.research.google.com/assets/colab-badge.svg\" alt=\"Open In Colab\"/></a>"
      ]
    },
    {
      "cell_type": "code",
      "metadata": {
        "id": "BZQztL3X5icD"
      },
      "source": [
        "import turtle\n",
        "t = turtle.Turtle()\n",
        "t.shape(\"turtle\")\n",
        "\n",
        "def square(length,index):\n",
        "  t.color(colorList[index])\n",
        "  t.begin_fill()\n",
        "for i in range(4):\n",
        "  t.forward(length)\n",
        "  t.left(90)\n",
        "  t.end_fill()\n",
        "\n",
        "colorList=[\"red\", \"blue\", \"green\"]\n",
        "x = -200\n",
        "\n",
        "for i in range(len(colorList)):\n",
        "  t.up()\n",
        "  t.goto(x,0)\n",
        "  t.down()\n",
        "  square(100,i);\n",
        "  x+=200\n",
        "\n",
        "\n",
        "import turtle\n",
        "t = turtle.Turtle()\n",
        "\n",
        "def n_polygon(n, length):\n",
        "for i in range(n):\n",
        "  t.forward(length)\n",
        "  t.left(360/n)\n",
        "def get_color(index):\n",
        "list = [\"red\", \"orange\", \"yellow\", \"green\", \"blue\", \"navy\", \"purple\", \"gray\", \"skyblue\", \"pink\"]\n",
        "t.color(list[index]) thenin fillo\n",
        "t.begin_fill()\n",
        "n_polygon (6,100)\n",
        "t.end_fill()\n",
        "\n",
        "for i in range(10):\n",
        "  t.left(20)\n",
        "  get_color(i)"
      ],
      "execution_count": null,
      "outputs": []
    }
  ]
}