{
  "nbformat": 4,
  "nbformat_minor": 0,
  "metadata": {
    "colab": {
      "name": "21.11.21_2.ipynb",
      "provenance": [],
      "collapsed_sections": [],
      "authorship_tag": "ABX9TyOfWudG3zulL3wcXh6YAj08",
      "include_colab_link": true
    },
    "kernelspec": {
      "name": "python3",
      "display_name": "Python 3"
    },
    "language_info": {
      "name": "python"
    }
  },
  "cells": [
    {
      "cell_type": "markdown",
      "metadata": {
        "id": "view-in-github",
        "colab_type": "text"
      },
      "source": [
        "<a href=\"https://colab.research.google.com/github/nohmin5452/vkdltjs/blob/main/21_11_21_2.ipynb\" target=\"_parent\"><img src=\"https://colab.research.google.com/assets/colab-badge.svg\" alt=\"Open In Colab\"/></a>"
      ]
    },
    {
      "cell_type": "code",
      "metadata": {
        "id": "4zRIaOTTU0Ye"
      },
      "source": [
        "import turtle\n",
        "\n",
        "t = turtle.Turtle()\n",
        "t.shape(\"turtle\")\n",
        "\n",
        "for i in range(6):\n",
        "t.forward(100)\n",
        "t.left(360/6)\n",
        "\n",
        "\n",
        "import turtle\n",
        "t = turtle.Turtle()\n",
        "t.shape(\"turtle\")\n",
        "s = turtle.textinput(\"\",\"?:\")\n",
        "n = int(s)\n",
        "s = turtle.textinput(\"\",\"37 :\")\n",
        "len = int(s)\n",
        "\n",
        "for i in range(n):\n",
        "t.forward(len)\n",
        "t.left(360/n)\n",
        "\n",
        "\n",
        "import turtle\n",
        "import random\n",
        "t = turtle.Turtle()\n",
        "t.shape(\"turtle\")\n",
        "\n",
        "for i in range(30):\n",
        "length = random.randint(1,100)\n",
        "t.forward(length)\n",
        "angle = random.randint(1,4)\n",
        "t.right(90* angle)"
      ],
      "execution_count": null,
      "outputs": []
    }
  ]
}