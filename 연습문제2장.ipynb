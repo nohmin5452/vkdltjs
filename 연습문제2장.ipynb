{
  "nbformat": 4,
  "nbformat_minor": 0,
  "metadata": {
    "colab": {
      "name": "연습문제2장.ipynb",
      "provenance": [],
      "authorship_tag": "ABX9TyN7TlxwKmxf77lP/w+clLqE",
      "include_colab_link": true
    },
    "kernelspec": {
      "name": "python3",
      "display_name": "Python 3"
    },
    "language_info": {
      "name": "python"
    }
  },
  "cells": [
    {
      "cell_type": "markdown",
      "metadata": {
        "id": "view-in-github",
        "colab_type": "text"
      },
      "source": [
        "<a href=\"https://colab.research.google.com/github/nohmin5452/vkdltjs/blob/main/%EC%97%B0%EC%8A%B5%EB%AC%B8%EC%A0%9C2%EC%9E%A5.ipynb\" target=\"_parent\"><img src=\"https://colab.research.google.com/assets/colab-badge.svg\" alt=\"Open In Colab\"/></a>"
      ]
    },
    {
      "cell_type": "code",
      "metadata": {
        "id": "6Yc-3xsxW_mR"
      },
      "source": [
        "x=7\n",
        "y=6\n",
        "print(x+y)\n",
        "\n",
        "x='7'\n",
        "y='6'\n",
        "print(x+y)\n",
        "\n",
        "1\n",
        "\n",
        "import turtle\n",
        "t = turtle.Turtle()\n",
        "t.shape(\"turtle\")\n",
        "\n",
        "radius = 50 # 변수 radius와 값을 선언\n",
        "x = 30 # 변수 x와 값을 선언\n",
        "t.circle(radius) # 반지름이 50인 원이 그려진다.\n",
        "t.fd(x)  # fd forward와 같은 명령어이다. 앞으로 30만큼 움직인다.\n",
        "t.circle(radius) # 반지름이 50인 원이 그려진다.\n",
        "x = 50   # 움직이는 거리를 담는 변수 x의 값을 50픽셀로 수정한다.\n",
        "t.fd(x) # 앞으로 50만큼 움직인다. fd forward의 약자\n",
        "t.circle(radius) # 반지름이 50인 원이 그려진다.\n",
        "\n",
        "x = int(input(\"첫 번째 정수를 입력하시오: \")) \n",
        "y = int(input(\"두 번째 정수를 입력하시오: \"))\n",
        "\n",
        "print(x, \"+\",\"y, \" = \", x + y) #더하기\n",
        "\n",
        "print(x,\"-\",y\"=\",x-y) #빼기\n",
        "\n",
        "print(x.\"*\", y. \" =  \", x * y) #곱하기\n",
        "\n",
        "print(x,\"/\", y, \" = \". x /y) #나누기\n",
        "\n",
        "\n",
        "\n"
      ],
      "execution_count": null,
      "outputs": []
    }
  ]
}