{
  "nbformat": 4,
  "nbformat_minor": 0,
  "metadata": {
    "colab": {
      "name": "21.11.24ipynb",
      "provenance": [],
      "collapsed_sections": [],
      "authorship_tag": "ABX9TyM7JIADrTgTGpFJOHCJkD7K",
      "include_colab_link": true
    },
    "kernelspec": {
      "name": "python3",
      "display_name": "Python 3"
    },
    "language_info": {
      "name": "python"
    }
  },
  "cells": [
    {
      "cell_type": "markdown",
      "metadata": {
        "id": "view-in-github",
        "colab_type": "text"
      },
      "source": [
        "<a href=\"https://colab.research.google.com/github/nohmin5452/vkdltjs/blob/main/21_11_24ipynb.ipynb\" target=\"_parent\"><img src=\"https://colab.research.google.com/assets/colab-badge.svg\" alt=\"Open In Colab\"/></a>"
      ]
    },
    {
      "cell_type": "code",
      "metadata": {
        "id": "B_3CWbm--epD"
      },
      "source": [
        "i = 1\n",
        "while i <=9:\n",
        "j = 1\n",
        "while j <= 9:\n",
        "print(i, \"*\", j, \"=\", i*j)\n",
        "j=j+1\n",
        "print(\" \")\n",
        "i=i+1\n",
        "\n",
        "\n",
        "import turtle\n",
        "t = turtle.Turtle() \n",
        "t.shape(\"turtle\")\n",
        "i = 0 while i < 5:\n",
        "t.forward(50)\n",
        "t.right(144)\n",
        "\n",
        "\n",
        "import turtle\n",
        "import random # 색상은 리스트에 저장했다가 하나씩 꺼내서 변경하도록 하자. colors = [\"red\", \"purple\", \"blue\", \"green\", \"yellow\", \"orange\"]\n",
        "\n",
        "t = turtle.Turtle() # 배경색은 다음과 같은 문장으로 변경이 가능하다. turtle.bgcolor(\"black\")\n",
        "t.speed (0) # 거북이의 속도는 0으로 설정하면 최대가 된다..\n",
        "t.width(3) # 거북이가 그리는 선의 두께는 width(를 호출하면 된다\n",
        "length = 10 # 초기 선의 길이는 10으로 한다.\n",
        "\n",
        "while length < 500:#while 반복문이다선의 길이가 500보다 작으면 반복한다.\n",
        "t.forward(length) # length만큼 전진한다.\n",
        "t.pencolor(colors[length%6])# 선의 색상을 변경한다\n",
        "angle = random.randint(1,100)# 랜덤한 각도로 회전한다.\n",
        "t.right(angle)# 선의 길이를 5만큼 증가한다\n"
      ],
      "execution_count": null,
      "outputs": []
    }
  ]
}