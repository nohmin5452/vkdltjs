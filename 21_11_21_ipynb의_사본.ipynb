{
  "nbformat": 4,
  "nbformat_minor": 0,
  "metadata": {
    "colab": {
      "name": "21.11.21.ipynb의 사본",
      "provenance": [],
      "authorship_tag": "ABX9TyOd89JQLXQggGIcx/yR0JhL",
      "include_colab_link": true
    },
    "kernelspec": {
      "name": "python3",
      "display_name": "Python 3"
    },
    "language_info": {
      "name": "python"
    }
  },
  "cells": [
    {
      "cell_type": "markdown",
      "metadata": {
        "id": "view-in-github",
        "colab_type": "text"
      },
      "source": [
        "<a href=\"https://colab.research.google.com/github/nohmin5452/vkdltjs/blob/main/21_11_21_ipynb%EC%9D%98_%EC%82%AC%EB%B3%B8.ipynb\" target=\"_parent\"><img src=\"https://colab.research.google.com/assets/colab-badge.svg\" alt=\"Open In Colab\"/></a>"
      ]
    },
    {
      "cell_type": "code",
      "metadata": {
        "id": "0YzlSWZ6SgP5"
      },
      "source": [
        "score int(input(\"성적을 입력하세요. \"))\n",
        "if score >= 90:\n",
        "  print(\"A학점입니다.\")\n",
        "  elif score >=80:\n",
        "    print(\"B학점입니다\")\n",
        "  elif score >=70:\n",
        "      print(\"B학점입니다\")\n",
        "  elif score >=60:  \n",
        "    print(\"C학점입니다\")\n",
        "  elif score >=60:  \n",
        "    print(\"D학점입니다.\")\n",
        " else:\n",
        "   print(\"F학점입니다.)\n"
      ],
      "execution_count": null,
      "outputs": []
    }
  ]
}