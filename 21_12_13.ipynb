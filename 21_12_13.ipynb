{
  "nbformat": 4,
  "nbformat_minor": 0,
  "metadata": {
    "colab": {
      "name": "21.12.13.ipynb",
      "provenance": [],
      "collapsed_sections": [],
      "authorship_tag": "ABX9TyMD4VmlkBqf16u1WLyvSuiY",
      "include_colab_link": true
    },
    "kernelspec": {
      "name": "python3",
      "display_name": "Python 3"
    },
    "language_info": {
      "name": "python"
    }
  },
  "cells": [
    {
      "cell_type": "markdown",
      "metadata": {
        "id": "view-in-github",
        "colab_type": "text"
      },
      "source": [
        "<a href=\"https://colab.research.google.com/github/nohmin5452/vkdltjs/blob/main/21_12_13.ipynb\" target=\"_parent\"><img src=\"https://colab.research.google.com/assets/colab-badge.svg\" alt=\"Open In Colab\"/></a>"
      ]
    },
    {
      "cell_type": "code",
      "execution_count": null,
      "metadata": {
        "id": "p7DAQFR8DExa"
      },
      "outputs": [],
      "source": [
        "from tkinter import *\n",
        "\n",
        "fields = '이름', '직업', '국적'\n",
        "def fetch(entries):\n",
        " for entry in entries:\n",
        " field = entry[0]\n",
        " text = entry[1].get()\n",
        " print('%s: \"%s\"' % (field, text))\n",
        "def makeform(root, fields):\n",
        " entries = []\n",
        " for field in fields:\n",
        " row = Frame(root)\n",
        " lab = Label(row, width=15, text=field)\n",
        " ent = Entry(row)\n",
        " row.pack(side=TOP, fill=X)\n",
        " lab.pack(side=LEFT)\n",
        " ent.pack(side=RIGHT, expand=YES, fill=X)\n",
        " entries.append((field, ent))\n",
        " return entries\n",
        "root = Tk()\n",
        "ents = makeform(root, fields)\n",
        "root.bind('<Return>', (lambda event, e=ents: fetch(e)))\n",
        "b1 = Button(root, text='보여주기',\n",
        " command=(lambda e=ents: fetch(e)))\n",
        "b1.pack(side=LEFT, padx=5, pady=5)\n",
        "b2 = Button(root, text='종료하기', command=root.quit)\n",
        "b2.pack(side=LEFT, padx=5, pady=5)\n",
        "root.mainloop()\n",
        "\n",
        "\n",
        "from tkinter import *\n",
        "\n",
        "window = Tk()\n",
        "label1 = Label(window, text=\"로그인 하세요!!!\", font=(\"Helvetica\", 20))\n",
        "label1.pack()\n",
        "label2 = Label(window, text=\"아이디\")\n",
        "label2.pack()\n",
        "entry1 = Entry(window)\n",
        "entry1.pack()\n",
        "label2 = Label(window, text=\"패스워드\")\n",
        "label2.pack()\n",
        "entry2 = Entry(window)\n",
        "entry2.pack()\n",
        "button1 = Button(window, text=\"로그인\")\n",
        "button1.pack()\n",
        "window.mainloop()\n"
      ]
    }
  ]
}