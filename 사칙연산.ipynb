{
  "nbformat": 4,
  "nbformat_minor": 0,
  "metadata": {
    "colab": {
      "name": "사칙연산.ipynb",
      "provenance": [],
      "collapsed_sections": [],
      "authorship_tag": "ABX9TyPVv9dnkZS3CirK9CE/0iV4",
      "include_colab_link": true
    },
    "kernelspec": {
      "name": "python3",
      "display_name": "Python 3"
    },
    "language_info": {
      "name": "python"
    }
  },
  "cells": [
    {
      "cell_type": "markdown",
      "metadata": {
        "id": "view-in-github",
        "colab_type": "text"
      },
      "source": [
        "<a href=\"https://colab.research.google.com/github/nohmin5452/vkdltjs/blob/main/%EC%82%AC%EC%B9%99%EC%97%B0%EC%82%B0.ipynb\" target=\"_parent\"><img src=\"https://colab.research.google.com/assets/colab-badge.svg\" alt=\"Open In Colab\"/></a>"
      ]
    },
    {
      "cell_type": "code",
      "metadata": {
        "id": "BmiAv9_8Bom1"
      },
      "source": [
        "더하기 +\n",
        "빼기 -\n",
        "곱하기 *\n",
        "나누기 /\n",
        "몫만 나누기 //\n",
        "나머지만 나누기 %\n",
        "거듭 제곱 **2\n",
        "세제곱 **3\n",
        "할당 연산자나 대입연산자 =\n",
        "동등비교 연산자 ==\n",
        "부정 연산자 !=\n"
      ],
      "execution_count": null,
      "outputs": []
    }
  ]
}