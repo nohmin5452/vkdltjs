<font class="papago-parent"><font class="papago-source" style="display:none;">{
</font>{
</font><font class="papago-parent"><font class="papago-source" style="display:none;">  "nbformat": 4,
</font>  "nbformat": 4,
</font><font class="papago-parent"><font class="papago-source" style="display:none;">  "nbformat_minor": 0,
</font>  "nbformat_limits": 0,
</font><font class="papago-parent"><font class="papago-source" style="display:none;">  "metadata": {
</font>  "metadata": {
</font><font class="papago-parent"><font class="papago-source" style="display:none;">    "colab": {
</font>    "colab": {
</font><font class="papago-parent"><font class="papago-source" style="display:none;">      "name": "사칙연산.ipynb",
</font>      "name": "사칙연산.ipynb",
</font><font class="papago-parent"><font class="papago-source" style="display:none;">      "provenance": [],
</font>      "검증": [],
</font><font class="papago-parent"><font class="papago-source" style="display:none;">      "collapsed_sections": [],
</font>      "sections_sections": []
</font><font class="papago-parent"><font class="papago-source" style="display:none;">      "authorship_tag": "ABX9TyPVv9dnkZS3CirK9</font>      "authority_tag": "ABX9TyPv9dnkZS3CirK9"</font><font class="papago-parent"><font class="papago-source" style="display:none;">CE/0iV4",
</font>CE/0iV4",
</font><font class="papago-parent"><font class="papago-source" style="display:none;">      "include_colab_link": true
</font>      "reason_colab_link": true
</font><font class="papago-parent"><font class="papago-source" style="display:none;">    },
</font>    },
</font><font class="papago-parent"><font class="papago-source" style="display:none;">    "kernelspec": {
</font>    "kernelspec": {
</font><font class="papago-parent"><font class="papago-source" style="display:none;">      "name": "python3",
</font>      "이름": "python3"
</font><font class="papago-parent"><font class="papago-source" style="display:none;">      "display_name": "Python 3"
</font>      "display_name": "피톤 3"
</font><font class="papago-parent"><font class="papago-source" style="display:none;">    },
</font>    },
</font><font class="papago-parent"><font class="papago-source" style="display:none;">    "language_info": {
</font>    "language_properties": {
</font><font class="papago-parent"><font class="papago-source" style="display:none;">      "name": "python"
</font>      "이름": "이름"
</font><font class="papago-parent"><font class="papago-source" style="display:none;">    }
</font>    }
</font><font class="papago-parent"><font class="papago-source" style="display:none;">  },
</font>  },
</font><font class="papago-parent"><font class="papago-source" style="display:none;">  "cells": [
</font>  "cells": [
</font><font class="papago-parent"><font class="papago-source" style="display:none;">    {
</font>    {
</font><font class="papago-parent"><font class="papago-source" style="display:none;">      "cell_type": "markdown",
</font>      "cell_type": "markdown",
</font><font class="papago-parent"><font class="papago-source" style="display:none;">      "metadata": {
</font>      "metadata": {
</font><font class="papago-parent"><font class="papago-source" style="display:none;">        "id": "view-in-github",
</font>        "id": "view-in-github",
</font><font class="papago-parent"><font class="papago-source" style="display:none;">        "colab_type": "text"
</font>        "colab_type": "text"
</font><font class="papago-parent"><font class="papago-source" style="display:none;">      },
</font>      },
</font><font class="papago-parent"><font class="papago-source" style="display:none;">      "source": [
</font>      "출처": [
</font><font class="papago-parent"><font class="papago-source" style="display:none;">        "<a href=\"https://colab.research.google.com/github/nohmin5452/vkdltjs/blob/main/%</font>        "<a href=\"https://colab.research.google.com/github/nohmin5452/vkdltjs/blob/main/%</font><font class="papago-parent"><font class="papago-source" style="display:none;">EC%82%AC%</font>EC%82%AC%</font><font class="papago-parent"><font class="papago-source" style="display:none;">EC%B9%99%</font>EC%B9%99%</font><font class="papago-parent"><font class="papago-source" style="display:none;">EC%97%B0%</font>EC%97%B0%</font><font class="papago-parent"><font class="papago-source" style="display:none;">EC%82%B0.ipynb\" target=\"_parent\"><img src=\"https://colab.research.google.com/assets/colab-badge.svg\" alt=\"Open In Colab\"/></a>"
</font>EC%82%B0.ipynb\" target=\"_parent\"<img src=\"https://colab.research.google.com/assets/colab-badge.svg\" alt=\"Open In Colab\"/></a"
</font><font class="papago-parent"><font class="papago-source" style="display:none;">      ]
</font>      ]
</font><font class="papago-parent"><font class="papago-source" style="display:none;">    },
</font>    },
</font><font class="papago-parent"><font class="papago-source" style="display:none;">    {
</font>    {
</font><font class="papago-parent"><font class="papago-source" style="display:none;">      "cell_type": "code",
</font>      "cell_type": "code",
</font><font class="papago-parent"><font class="papago-source" style="display:none;">      "metadata": {
</font>      "metadata": {
</font><font class="papago-parent"><font class="papago-source" style="display:none;">        "id": "BmiAv9_8Bom1"
</font>        "id": "BmiAv9_8Bom1"
</font><font class="papago-parent"><font class="papago-source" style="display:none;">      },
</font>      },
</font><font class="papago-parent"><font class="papago-source" style="display:none;">      "source": [
</font>      "출처": [
</font><font class="papago-parent"><font class="papago-source" style="display:none;">        "더하기 +\n",
</font>        "더하기 +\n",
</font><font class="papago-parent"><font class="papago-source" style="display:none;">        "빼기 -\n",
</font>        "빼기 -\n",
</font><font class="papago-parent"><font class="papago-source" style="display:none;">        "곱하기 *\n",
</font>        "곱하기 *\n",
</font><font class="papago-parent"><font class="papago-source" style="display:none;">        "나누기 /\n",
</font>        "나누기 /\n",
</font><font class="papago-parent"><font class="papago-source" style="display:none;">        "몫만 나누기 //\n",
</font>        "몫만 나누기 //\n",
</font><font class="papago-parent"><font class="papago-source" style="display:none;">        "나머지만 나누기 %\n",
</font>        "나머지만 나누기 %\n",
</font><font class="papago-parent"><font class="papago-source" style="display:none;">        "거듭 제곱 **2\n",
</font>        "거듭 제곱 **2\n",
</font><font class="papago-parent"><font class="papago-source" style="display:none;">        "세제곱 **3\n",
</font>        "세제곱 **3\n",
</font><font class="papago-parent"><font class="papago-source" style="display:none;">        "할당 연산자나 대입연산자 =\n",
</font>        "할당 연산자나 대입연산자 =\n",
</font><font class="papago-parent"><font class="papago-source" style="display:none;">        "동등비교 연산자 ==\n",
</font>        "동등비교 연산자 ==\n",
</font><font class="papago-parent"><font class="papago-source" style="display:none;">        "부정 연산자 !=\n"
</font>        "부정 연산자 !=\n"
</font><font class="papago-parent"><font class="papago-source" style="display:none;">      ],
</font>      ],
</font><font class="papago-parent"><font class="papago-source" style="display:none;">      "execution_count": null,
</font>      "required_count": null,
</font><font class="papago-parent"><font class="papago-source" style="display:none;">      "outputs": []
</font>      "outputs": []
</font><font class="papago-parent"><font class="papago-source" style="display:none;">    }
</font>    }
</font><font class="papago-parent"><font class="papago-source" style="display:none;">  ]
</font>  ]
</font><font class="papago-parent"><font class="papago-source" style="display:none;">}</font>}</font>
